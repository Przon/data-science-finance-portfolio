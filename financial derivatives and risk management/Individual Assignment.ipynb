{
 "cells": [
  {
   "cell_type": "code",
   "execution_count": 1,
   "metadata": {},
   "outputs": [],
   "source": [
    "import numpy as np\n",
    "import pandas as pd\n",
    "from scipy.stats import norm\n",
    "import matplotlib.pyplot as plt\n",
    "import yfinance as yf\n"
   ]
  },
  {
   "cell_type": "markdown",
   "metadata": {},
   "source": [
    "# a"
   ]
  },
  {
   "cell_type": "code",
   "execution_count": 2,
   "metadata": {},
   "outputs": [
    {
     "name": "stdout",
     "output_type": "stream",
     "text": [
      "Selected Stock/Index: AAPL\n",
      "Expiration Timeframe (T): 0.16666666666666666 years\n"
     ]
    }
   ],
   "source": [
    "# Stock/Index\n",
    "stock = \"AAPL\"  # Apple Inc.\n",
    "\n",
    "# Expiration timeframe in years (2 months)\n",
    "T = 2 / 12  # 2 months = 2/12 years\n",
    "\n",
    "print(f\"Selected Stock/Index: {stock}\")\n",
    "print(f\"Expiration Timeframe (T): {T} years\")"
   ]
  },
  {
   "cell_type": "markdown",
   "metadata": {},
   "source": [
    "# b"
   ]
  },
  {
   "cell_type": "code",
   "execution_count": 5,
   "metadata": {},
   "outputs": [
    {
     "name": "stdout",
     "output_type": "stream",
     "text": [
      "Selected Stock/Index: AAPL\n",
      "Current Stock Price: $207.15\n",
      "Closest Strike Price: $207\n"
     ]
    }
   ],
   "source": [
    "# Fetch current stock price for AAPL\n",
    "stock = \"AAPL\"\n",
    "stock_data = yf.Ticker(stock)\n",
    "current_price = stock_data.history(period=\"1d\")['Close'].iloc[-1]\n",
    "\n",
    "# Pick the strike price closest to the current price\n",
    "strike_price = round(current_price)\n",
    "\n",
    "print(f\"Selected Stock/Index: {stock}\")\n",
    "print(f\"Current Stock Price: ${current_price:.2f}\")\n",
    "print(f\"Closest Strike Price: ${strike_price}\")"
   ]
  },
  {
   "cell_type": "markdown",
   "metadata": {},
   "source": [
    "# C"
   ]
  },
  {
   "cell_type": "code",
   "execution_count": 7,
   "metadata": {},
   "outputs": [
    {
     "name": "stdout",
     "output_type": "stream",
     "text": [
      "Risk-Free Rate: 0.0005\n"
     ]
    }
   ],
   "source": [
    "# Risk-free rate (2-month US Treasury yield as an example)\n",
    "risk_free_rate = 0.05 / 100  # 0.05% annualized\n",
    "\n",
    "print(f\"Risk-Free Rate: {risk_free_rate:.4f}\")"
   ]
  },
  {
   "cell_type": "markdown",
   "metadata": {},
   "source": [
    "# d"
   ]
  },
  {
   "cell_type": "code",
   "execution_count": 8,
   "metadata": {},
   "outputs": [
    {
     "name": "stdout",
     "output_type": "stream",
     "text": [
      "Estimated Volatility: 0.2147\n"
     ]
    }
   ],
   "source": [
    "# Fetch historical stock price data for AAPL (1 year of daily data)\n",
    "historical_data = stock_data.history(period=\"1y\")\n",
    "\n",
    "# Calculate daily returns\n",
    "historical_data['Returns'] = historical_data['Close'].pct_change()\n",
    "\n",
    "# Estimate annualized volatility\n",
    "volatility = np.std(historical_data['Returns'].dropna()) * np.sqrt(252)  # 252 trading days in a year\n",
    "\n",
    "print(f\"Estimated Volatility: {volatility:.4f}\")"
   ]
  },
  {
   "cell_type": "markdown",
   "metadata": {},
   "source": [
    "# e"
   ]
  },
  {
   "cell_type": "code",
   "execution_count": 9,
   "metadata": {},
   "outputs": [
    {
     "name": "stdout",
     "output_type": "stream",
     "text": [
      "Dividend Yield: 0.52%\n"
     ]
    }
   ],
   "source": [
    "dividend_yield = stock_data.info['dividendYield']\n",
    "\n",
    "# Convert dividend yield to annual percentage\n",
    "if dividend_yield is not None:\n",
    "    dividend_yield = dividend_yield * 100  # Convert to percentage\n",
    "else:\n",
    "    dividend_yield = 0.0\n",
    "\n",
    "print(f\"Dividend Yield: {dividend_yield:.2f}%\")"
   ]
  },
  {
   "cell_type": "markdown",
   "metadata": {},
   "source": [
    "# 2a"
   ]
  },
  {
   "cell_type": "code",
   "execution_count": 10,
   "metadata": {},
   "outputs": [
    {
     "name": "stdout",
     "output_type": "stream",
     "text": [
      "European Call Option Price: $1.51\n",
      "European Put Option Price: $18.54\n",
      "Put-Call Parity Difference: 0.0000\n"
     ]
    }
   ],
   "source": [
    "# Black-Scholes formula for call option price\n",
    "def black_scholes_call(S, K, T, r, sigma, q):\n",
    "    d1 = (np.log(S / K) + (r - q + 0.5 * sigma**2) * T) / (sigma * np.sqrt(T))\n",
    "    d2 = d1 - sigma * np.sqrt(T)\n",
    "    call_price = S * np.exp(-q * T) * norm.cdf(d1) - K * np.exp(-r * T) * norm.cdf(d2)\n",
    "    return call_price\n",
    "\n",
    "# Black-Scholes formula for put option price\n",
    "def black_scholes_put(S, K, T, r, sigma, q):\n",
    "    d1 = (np.log(S / K) + (r - q + 0.5 * sigma**2) * T) / (sigma * np.sqrt(T))\n",
    "    d2 = d1 - sigma * np.sqrt(T)\n",
    "    put_price = K * np.exp(-r * T) * norm.cdf(-d2) - S * np.exp(-q * T) * norm.cdf(-d1)\n",
    "    return put_price\n",
    "\n",
    "# Calculate call and put option prices using previously defined variables\n",
    "call_price = black_scholes_call(current_price, strike_price, T, risk_free_rate, volatility, dividend_yield)\n",
    "put_price = black_scholes_put(current_price, strike_price, T, risk_free_rate, volatility, dividend_yield)\n",
    "\n",
    "print(f\"European Call Option Price: ${call_price:.2f}\")\n",
    "print(f\"European Put Option Price: ${put_price:.2f}\")\n",
    "\n",
    "# Verify put-call parity: C - P = S * exp(-q * T) - K * exp(-r * T)\n",
    "put_call_parity = call_price - put_price\n",
    "expected_parity_value = current_price * np.exp(-dividend_yield * T) - strike_price * np.exp(-risk_free_rate * T)\n",
    "\n",
    "print(f\"Put-Call Parity Difference: {put_call_parity - expected_parity_value:.4f}\")\n"
   ]
  },
  {
   "cell_type": "markdown",
   "metadata": {},
   "source": [
    "# b"
   ]
  },
  {
   "cell_type": "code",
   "execution_count": 11,
   "metadata": {},
   "outputs": [
    {
     "name": "stdout",
     "output_type": "stream",
     "text": [
      "Greeks for the European Call Option:\n",
      "Delta: 0.1603\n",
      "Gamma: 0.0130\n",
      "Theta: 0.0120 per day\n",
      "Vega: 0.1997 per 1% change in volatility\n",
      "Rho: 0.0528 per 1% change in interest rate\n",
      "\n",
      "Greeks for the European Put Option:\n",
      "Delta: -0.7567\n",
      "Gamma: 0.0130\n",
      "Theta: -0.2583 per day\n",
      "Vega: 0.1997 per 1% change in volatility\n",
      "Rho: -0.2922 per 1% change in interest rate\n"
     ]
    }
   ],
   "source": [
    "def black_scholes_greeks(S, K, T, r, sigma, q):\n",
    "    d1 = (np.log(S / K) + (r - q + 0.5 * sigma**2) * T) / (sigma * np.sqrt(T))\n",
    "    d2 = d1 - sigma * np.sqrt(T)\n",
    "    \n",
    "    # Delta\n",
    "    delta_call = np.exp(-q * T) * norm.cdf(d1)\n",
    "    delta_put = np.exp(-q * T) * (norm.cdf(d1) - 1)\n",
    "    \n",
    "    # Gamma\n",
    "    gamma = (np.exp(-q * T) * norm.pdf(d1)) / (S * sigma * np.sqrt(T))\n",
    "    \n",
    "    # Theta\n",
    "    theta_call = (- (S * np.exp(-q * T) * norm.pdf(d1) * sigma) / (2 * np.sqrt(T))\n",
    "                  - r * K * np.exp(-r * T) * norm.cdf(d2)\n",
    "                  + q * S * np.exp(-q * T) * norm.cdf(d1))\n",
    "    theta_put = (- (S * np.exp(-q * T) * norm.pdf(d1) * sigma) / (2 * np.sqrt(T))\n",
    "                 + r * K * np.exp(-r * T) * norm.cdf(-d2)\n",
    "                 - q * S * np.exp(-q * T) * norm.cdf(-d1))\n",
    "    \n",
    "    # Vega\n",
    "    vega = S * np.exp(-q * T) * norm.pdf(d1) * np.sqrt(T)\n",
    "    \n",
    "    # Rho\n",
    "    rho_call = K * T * np.exp(-r * T) * norm.cdf(d2)\n",
    "    rho_put = -K * T * np.exp(-r * T) * norm.cdf(-d2)\n",
    "    \n",
    "    return {\n",
    "        \"delta_call\": delta_call,\n",
    "        \"delta_put\": delta_put,\n",
    "        \"gamma\": gamma,\n",
    "        \"theta_call\": theta_call / 365,  # per day\n",
    "        \"theta_put\": theta_put / 365,    # per day\n",
    "        \"vega\": vega / 100,              # per 1% change in volatility\n",
    "        \"rho_call\": rho_call / 100,      # per 1% change in interest rate\n",
    "        \"rho_put\": rho_put / 100         # per 1% change in interest rate\n",
    "    }\n",
    "\n",
    "# Calculate Greeks using previously defined variables\n",
    "greeks = black_scholes_greeks(current_price, strike_price, T, risk_free_rate, volatility, dividend_yield)\n",
    "\n",
    "print(\"Greeks for the European Call Option:\")\n",
    "print(f\"Delta: {greeks['delta_call']:.4f}\")\n",
    "print(f\"Gamma: {greeks['gamma']:.4f}\")\n",
    "print(f\"Theta: {greeks['theta_call']:.4f} per day\")\n",
    "print(f\"Vega: {greeks['vega']:.4f} per 1% change in volatility\")\n",
    "print(f\"Rho: {greeks['rho_call']:.4f} per 1% change in interest rate\")\n",
    "\n",
    "print(\"\\nGreeks for the European Put Option:\")\n",
    "print(f\"Delta: {greeks['delta_put']:.4f}\")\n",
    "print(f\"Gamma: {greeks['gamma']:.4f}\")\n",
    "print(f\"Theta: {greeks['theta_put']:.4f} per day\")\n",
    "print(f\"Vega: {greeks['vega']:.4f} per 1% change in volatility\")\n",
    "print(f\"Rho: {greeks['rho_put']:.4f} per 1% change in interest rate\")\n"
   ]
  },
  {
   "cell_type": "markdown",
   "metadata": {},
   "source": [
    "# C"
   ]
  },
  {
   "cell_type": "code",
   "execution_count": 12,
   "metadata": {},
   "outputs": [
    {
     "name": "stderr",
     "output_type": "stream",
     "text": [
      "C:\\Users\\Tiago\\AppData\\Local\\Temp\\ipykernel_10624\\3870994438.py:31: RuntimeWarning: divide by zero encountered in scalar divide\n",
      "  d1 = (np.log(S / K) + (r - q + 0.5 * sigma**2) * T) / (sigma * np.sqrt(T))\n"
     ]
    },
    {
     "data": {
      "image/png": "[encoded data removed]",
      "text/plain": [
       "<Figure size 1000x600 with 1 Axes>"
      ]
     },
     "metadata": {},
     "output_type": "display_data"
    }
   ],
   "source": [
    "import numpy as np\n",
    "import matplotlib.pyplot as plt\n",
    "\n",
    "# Define the parameters\n",
    "S0 = current_price\n",
    "K = strike_price\n",
    "r = risk_free_rate\n",
    "sigma = volatility\n",
    "T = 2 / 12  # 2 months\n",
    "q = dividend_yield\n",
    "\n",
    "# Simulation parameters\n",
    "num_simulations = 1  # Single path simulation for delta-hedging\n",
    "num_intervals = 100  # Number of time intervals\n",
    "\n",
    "# Time step\n",
    "dt = T / num_intervals\n",
    "\n",
    "# Function to simulate stock price paths\n",
    "def simulate_stock_path(S0, r, sigma, T, num_intervals, num_simulations):\n",
    "    dt = T / num_intervals\n",
    "    prices = np.zeros((num_intervals + 1, num_simulations))\n",
    "    prices[0] = S0\n",
    "    for t in range(1, num_intervals + 1):\n",
    "        Z = np.random.standard_normal(num_simulations)\n",
    "        prices[t] = prices[t-1] * np.exp((r - 0.5 * sigma**2) * dt + sigma * np.sqrt(dt) * Z)\n",
    "    return prices\n",
    "\n",
    "# Function to calculate Delta\n",
    "def delta_call(S, K, T, r, sigma, q):\n",
    "    d1 = (np.log(S / K) + (r - q + 0.5 * sigma**2) * T) / (sigma * np.sqrt(T))\n",
    "    delta = np.exp(-q * T) * norm.cdf(d1)\n",
    "    return delta\n",
    "\n",
    "# Simulate the stock price path\n",
    "stock_path = simulate_stock_path(S0, r, sigma, T, num_intervals, num_simulations).flatten()\n",
    "\n",
    "# Initialize variables for delta-hedging\n",
    "portfolio_values = np.zeros(num_intervals + 1)\n",
    "stock_positions = np.zeros(num_intervals + 1)\n",
    "cash_positions = np.zeros(num_intervals + 1)\n",
    "\n",
    "# Initial delta\n",
    "delta = delta_call(S0, K, T, r, sigma, q)\n",
    "stock_positions[0] = delta\n",
    "cash_positions[0] = -delta * S0\n",
    "\n",
    "# Simulate delta-hedging\n",
    "for t in range(1, num_intervals + 1):\n",
    "    time_remaining = T - t * dt\n",
    "    delta_new = delta_call(stock_path[t], K, time_remaining, r, sigma, q)\n",
    "    stock_positions[t] = delta_new\n",
    "    cash_positions[t] = cash_positions[t-1] * np.exp(r * dt) - (delta_new - stock_positions[t-1]) * stock_path[t]\n",
    "    portfolio_values[t] = stock_positions[t] * stock_path[t] + cash_positions[t]\n",
    "\n",
    "# Plot the results\n",
    "plt.figure(figsize=(10, 6))\n",
    "plt.plot(np.linspace(0, T, num_intervals + 1), stock_path, label='Stock Price')\n",
    "plt.plot(np.linspace(0, T, num_intervals + 1), portfolio_values, label='Portfolio Value')\n",
    "plt.xlabel('Time')\n",
    "plt.ylabel('Value')\n",
    "plt.title('Delta-Hedging Strategy Simulation')\n",
    "plt.legend()\n",
    "plt.show()\n"
   ]
  },
  {
   "cell_type": "markdown",
   "metadata": {},
   "source": [
    "# 3A"
   ]
  },
  {
   "cell_type": "code",
   "execution_count": 15,
   "metadata": {},
   "outputs": [
    {
     "name": "stdout",
     "output_type": "stream",
     "text": [
      "Monte Carlo Estimated Call Option Price: $7.26\n",
      "Monte Carlo Estimated Put Option Price: $7.16\n",
      "Black-Scholes Call Option Price: $1.51\n",
      "Black-Scholes Put Option Price: $18.54\n",
      "Market Call Option Price: $2.52\n",
      "Market Put Option Price: $2.83\n",
      "Comparison for Call Option:\n",
      "Black-Scholes Price: $1.51\n",
      "Monte Carlo Price: $7.26\n",
      "Market Price: $2.52\n",
      "\n",
      "Comparison for Put Option:\n",
      "Black-Scholes Price: $18.54\n",
      "Monte Carlo Price: $7.16\n",
      "Market Price: $2.83\n"
     ]
    }
   ],
   "source": [
    "import numpy as np\n",
    "import yfinance as yf\n",
    "from scipy.stats import norm\n",
    "import matplotlib.pyplot as plt\n",
    "\n",
    "# Define the parameters\n",
    "S0 = current_price\n",
    "K = strike_price\n",
    "r = risk_free_rate\n",
    "sigma = volatility\n",
    "T = 2 / 12  # 2 months\n",
    "q = dividend_yield\n",
    "\n",
    "# Simulation parameters\n",
    "num_simulations = 50000\n",
    "num_intervals = 100  # Number of time intervals\n",
    "\n",
    "# Function to simulate stock price paths\n",
    "def simulate_stock_paths(S0, r, sigma, T, num_intervals, num_simulations):\n",
    "    dt = T / num_intervals\n",
    "    stock_paths = np.zeros((num_simulations, num_intervals + 1))\n",
    "    stock_paths[:, 0] = S0\n",
    "    for t in range(1, num_intervals + 1):\n",
    "        Z = np.random.standard_normal(num_simulations)\n",
    "        stock_paths[:, t] = stock_paths[:, t-1] * np.exp((r - 0.5 * sigma**2) * dt + sigma * np.sqrt(dt) * Z)\n",
    "    return stock_paths\n",
    "\n",
    "# Simulate stock price paths\n",
    "stock_paths = simulate_stock_paths(S0, r, sigma, T, num_intervals, num_simulations)\n",
    "\n",
    "# Calculate the payoff for call and put options\n",
    "call_payoffs = np.maximum(stock_paths[:, -1] - K, 0)\n",
    "put_payoffs = np.maximum(K - stock_paths[:, -1], 0)\n",
    "\n",
    "# Discount the payoffs to present value\n",
    "call_option_price_mc = np.exp(-r * T) * np.mean(call_payoffs)\n",
    "put_option_price_mc = np.exp(-r * T) * np.mean(put_payoffs)\n",
    "\n",
    "print(f\"Monte Carlo Estimated Call Option Price: ${call_option_price_mc:.2f}\")\n",
    "print(f\"Monte Carlo Estimated Put Option Price: ${put_option_price_mc:.2f}\")\n",
    "\n",
    "# Black-Scholes formula for call option price\n",
    "def black_scholes_call(S, K, T, r, sigma, q):\n",
    "    d1 = (np.log(S / K) + (r - q + 0.5 * sigma**2) * T) / (sigma * np.sqrt(T))\n",
    "    d2 = d1 - sigma * np.sqrt(T)\n",
    "    call_price = S * np.exp(-q * T) * norm.cdf(d1) - K * np.exp(-r * T) * norm.cdf(d2)\n",
    "    return call_price\n",
    "\n",
    "# Black-Scholes formula for put option price\n",
    "def black_scholes_put(S, K, T, r, sigma, q):\n",
    "    d1 = (np.log(S / K) + (r - q + 0.5 * sigma**2) * T) / (sigma * np.sqrt(T))\n",
    "    d2 = d1 - sigma * np.sqrt(T)\n",
    "    put_price = K * np.exp(-r * T) * norm.cdf(-d2) - S * np.exp(-q * T) * norm.cdf(-d1)\n",
    "    return put_price\n",
    "\n",
    "# Calculate call and put option prices using Black-Scholes formula\n",
    "call_price = black_scholes_call(S0, K, T, r, sigma, q)\n",
    "put_price = black_scholes_put(S0, K, T, r, sigma, q)\n",
    "\n",
    "print(f\"Black-Scholes Call Option Price: ${call_price:.2f}\")\n",
    "print(f\"Black-Scholes Put Option Price: ${put_price:.2f}\")\n",
    "\n",
    "# Fetch actual market option prices for AAPL\n",
    "options_chain = stock_data.option_chain(stock_data.options[0])\n",
    "calls = options_chain.calls\n",
    "puts = options_chain.puts\n",
    "\n",
    "# Find the closest matching strike price in the options chain\n",
    "closest_call = calls.iloc[(calls['strike'] - K).abs().argsort()[:1]]\n",
    "closest_put = puts.iloc[(puts['strike'] - K).abs().argsort()[:1]]\n",
    "\n",
    "market_call_price = closest_call['lastPrice'].values[0]\n",
    "market_put_price = closest_put['lastPrice'].values[0]\n",
    "\n",
    "print(f\"Market Call Option Price: ${market_call_price:.2f}\")\n",
    "print(f\"Market Put Option Price: ${market_put_price:.2f}\")\n",
    "\n",
    "# Compare results\n",
    "print(f\"Comparison for Call Option:\")\n",
    "print(f\"Black-Scholes Price: ${call_price:.2f}\")\n",
    "print(f\"Monte Carlo Price: ${call_option_price_mc:.2f}\")\n",
    "print(f\"Market Price: ${market_call_price:.2f}\")\n",
    "\n",
    "print(f\"\\nComparison for Put Option:\")\n",
    "print(f\"Black-Scholes Price: ${put_price:.2f}\")\n",
    "print(f\"Monte Carlo Price: ${put_option_price_mc:.2f}\")\n",
    "print(f\"Market Price: ${market_put_price:.2f}\")\n"
   ]
  },
  {
   "cell_type": "markdown",
   "metadata": {},
   "source": [
    "$ B"
   ]
  },
  {
   "cell_type": "code",
   "execution_count": 16,
   "metadata": {},
   "outputs": [
    {
     "name": "stdout",
     "output_type": "stream",
     "text": [
      "Greeks estimated using Monte Carlo simulation:\n",
      "\n",
      "Call Option Greeks:\n",
      "Delta: 2.8924\n",
      "Gamma: -2236.5518\n",
      "Theta: -29.7355\n",
      "Vega: 23.4467\n",
      "Rho: 2.4093\n",
      "\n",
      "Put Option Greeks:\n",
      "Delta: 0.8706\n",
      "Gamma: 2489.1317\n",
      "Theta: -19.1842\n",
      "Vega: 37.6398\n",
      "Rho: -12.4020\n"
     ]
    }
   ],
   "source": [
    "import numpy as np\n",
    "from scipy.stats import norm\n",
    "import yfinance as yf\n",
    "\n",
    "# Fetch current stock price for AAPL\n",
    "stock = \"AAPL\"\n",
    "stock_data = yf.Ticker(stock)\n",
    "current_price = stock_data.history(period=\"1d\")['Close'].iloc[-1]\n",
    "\n",
    "# Pick the strike price closest to the current price\n",
    "strike_price = round(current_price)\n",
    "\n",
    "# Risk-free rate (2-month US Treasury yield as an example)\n",
    "risk_free_rate = 0.05 / 100  # 0.05% annualized\n",
    "\n",
    "# Fetch historical stock price data for AAPL (1 year of daily data)\n",
    "historical_data = stock_data.history(period=\"1y\")\n",
    "\n",
    "# Calculate daily returns\n",
    "historical_data['Returns'] = historical_data['Close'].pct_change()\n",
    "\n",
    "# Estimate annualized volatility\n",
    "volatility = np.std(historical_data['Returns'].dropna()) * np.sqrt(252)  # 252 trading days in a year\n",
    "\n",
    "# Fetch dividend yield\n",
    "dividend_yield = stock_data.info['dividendYield']\n",
    "if dividend_yield is not None:\n",
    "    dividend_yield = dividend_yield\n",
    "else:\n",
    "    dividend_yield = 0.0\n",
    "\n",
    "# Expiration timeframe in years (2 months)\n",
    "T = 2 / 12  # 2 months = 2/12 years\n",
    "\n",
    "# Simulation parameters\n",
    "num_simulations = 50000\n",
    "num_intervals = 100  # Number of intervals in each simulation\n",
    "\n",
    "# Function to simulate stock price paths\n",
    "def simulate_stock_paths(S0, r, sigma, T, num_intervals, num_simulations):\n",
    "    dt = T / num_intervals\n",
    "    stock_paths = np.zeros((num_simulations, num_intervals + 1))\n",
    "    stock_paths[:, 0] = S0\n",
    "    for t in range(1, num_intervals + 1):\n",
    "        Z = np.random.standard_normal(num_simulations)\n",
    "        stock_paths[:, t] = stock_paths[:, t-1] * np.exp((r - 0.5 * sigma**2) * dt + sigma * np.sqrt(dt) * Z)\n",
    "    return stock_paths\n",
    "\n",
    "# Simulate stock price paths\n",
    "stock_paths = simulate_stock_paths(current_price, risk_free_rate, volatility, T, num_intervals, num_simulations)\n",
    "\n",
    "# Function to calculate option price\n",
    "def calculate_option_price(stock_paths, K, r, T, option_type='call'):\n",
    "    if option_type == 'call':\n",
    "        payoffs = np.maximum(stock_paths[:, -1] - K, 0)\n",
    "    else:\n",
    "        payoffs = np.maximum(K - stock_paths[:, -1], 0)\n",
    "    return np.exp(-r * T) * np.mean(payoffs)\n",
    "\n",
    "# Function to estimate Greeks using finite differences\n",
    "def estimate_greeks(S0, K, T, r, sigma, q, num_simulations, num_intervals, epsilon=0.01, h=0.01):\n",
    "    # Base price for call and put\n",
    "    stock_paths = simulate_stock_paths(S0, r, sigma, T, num_intervals, num_simulations)\n",
    "    call_price = calculate_option_price(stock_paths, K, r, T, 'call')\n",
    "    put_price = calculate_option_price(stock_paths, K, r, T, 'put')\n",
    "    \n",
    "    # Delta\n",
    "    stock_paths_up = simulate_stock_paths(S0 + h, r, sigma, T, num_intervals, num_simulations)\n",
    "    stock_paths_down = simulate_stock_paths(S0 - h, r, sigma, T, num_intervals, num_simulations)\n",
    "    call_price_up = calculate_option_price(stock_paths_up, K, r, T, 'call')\n",
    "    call_price_down = calculate_option_price(stock_paths_down, K, r, T, 'call')\n",
    "    put_price_up = calculate_option_price(stock_paths_up, K, r, T, 'put')\n",
    "    put_price_down = calculate_option_price(stock_paths_down, K, r, T, 'put')\n",
    "    delta_call = (call_price_up - call_price_down) / (2 * h)\n",
    "    delta_put = (put_price_up - put_price_down) / (2 * h)\n",
    "    \n",
    "    # Gamma\n",
    "    gamma_call = (call_price_up - 2 * call_price + call_price_down) / (h ** 2)\n",
    "    gamma_put = (put_price_up - 2 * put_price + put_price_down) / (h ** 2)\n",
    "    \n",
    "    # Theta\n",
    "    stock_paths_theta = simulate_stock_paths(S0, r, sigma, T - epsilon, num_intervals, num_simulations)\n",
    "    call_price_theta = calculate_option_price(stock_paths_theta, K, r, T - epsilon, 'call')\n",
    "    put_price_theta = calculate_option_price(stock_paths_theta, K, r, T - epsilon, 'put')\n",
    "    theta_call = (call_price_theta - call_price) / epsilon\n",
    "    theta_put = (put_price_theta - put_price) / epsilon\n",
    "    \n",
    "    # Vega\n",
    "    stock_paths_vega = simulate_stock_paths(S0, r, sigma + epsilon, T, num_intervals, num_simulations)\n",
    "    call_price_vega = calculate_option_price(stock_paths_vega, K, r, T, 'call')\n",
    "    put_price_vega = calculate_option_price(stock_paths_vega, K, r, T, 'put')\n",
    "    vega_call = (call_price_vega - call_price) / epsilon\n",
    "    vega_put = (put_price_vega - put_price) / epsilon\n",
    "    \n",
    "    # Rho\n",
    "    stock_paths_rho = simulate_stock_paths(S0, r + epsilon, sigma, T, num_intervals, num_simulations)\n",
    "    call_price_rho = calculate_option_price(stock_paths_rho, K, r + epsilon, T, 'call')\n",
    "    put_price_rho = calculate_option_price(stock_paths_rho, K, r + epsilon, T, 'put')\n",
    "    rho_call = (call_price_rho - call_price) / epsilon\n",
    "    rho_put = (put_price_rho - put_price) / epsilon\n",
    "    \n",
    "    return {\n",
    "        'delta_call': delta_call,\n",
    "        'delta_put': delta_put,\n",
    "        'gamma_call': gamma_call,\n",
    "        'gamma_put': gamma_put,\n",
    "        'theta_call': theta_call,\n",
    "        'theta_put': theta_put,\n",
    "        'vega_call': vega_call,\n",
    "        'vega_put': vega_put,\n",
    "        'rho_call': rho_call,\n",
    "        'rho_put': rho_put\n",
    "    }\n",
    "\n",
    "# Estimate Greeks using previously defined variables\n",
    "greeks_mc = estimate_greeks(current_price, strike_price, T, risk_free_rate, volatility, dividend_yield, num_simulations, num_intervals)\n",
    "\n",
    "print(\"Greeks estimated using Monte Carlo simulation:\")\n",
    "print(\"\\nCall Option Greeks:\")\n",
    "print(f\"Delta: {greeks_mc['delta_call']:.4f}\")\n",
    "print(f\"Gamma: {greeks_mc['gamma_call']:.4f}\")\n",
    "print(f\"Theta: {greeks_mc['theta_call']:.4f}\")\n",
    "print(f\"Vega: {greeks_mc['vega_call']:.4f}\")\n",
    "print(f\"Rho: {greeks_mc['rho_call']:.4f}\")\n",
    "\n",
    "print(\"\\nPut Option Greeks:\")\n",
    "print(f\"Delta: {greeks_mc['delta_put']:.4f}\")\n",
    "print(f\"Gamma: {greeks_mc['gamma_put']:.4f}\")\n",
    "print(f\"Theta: {greeks_mc['theta_put']:.4f}\")\n",
    "print(f\"Vega: {greeks_mc['vega_put']:.4f}\")\n",
    "print(f\"Rho: {greeks_mc['rho_put']:.4f}\")\n"
   ]
  }
 ],
 "metadata": {
  "kernelspec": {
   "display_name": "Python 3",
   "language": "python",
   "name": "python3"
  },
  "language_info": {
   "codemirror_mode": {
    "name": "ipython",
    "version": 3
   },
   "file_extension": ".py",
   "mimetype": "text/x-python",
   "name": "python",
   "nbconvert_exporter": "python",
   "pygments_lexer": "ipython3",
   "version": "3.11.9"
  }
 },
 "nbformat": 4,
 "nbformat_minor": 2
}
