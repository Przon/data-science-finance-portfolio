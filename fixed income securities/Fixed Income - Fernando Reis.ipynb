{
 "cells": [
  {
   "cell_type": "markdown",
   "id": "f1283064",
   "metadata": {},
   "source": [
    "## Individual Project - Fixed Income Securities\n",
    "\n",
    "Fernando Reis nº20231535"
   ]
  },
  {
   "cell_type": "code",
   "execution_count": 99,
   "id": "3236947d",
   "metadata": {},
   "outputs": [
    {
     "name": "stdout",
     "output_type": "stream",
     "text": [
      "Requirement already satisfied: quantlib in c:\\users\\tiago\\appdata\\local\\packages\\pythonsoftwarefoundation.python.3.11_qbz5n2kfra8p0\\localcache\\local-packages\\python311\\site-packages (1.32)\n"
     ]
    },
    {
     "name": "stderr",
     "output_type": "stream",
     "text": [
      "\n",
      "[notice] A new release of pip is available: 23.2.1 -> 23.3.2\n",
      "[notice] To update, run: C:\\Users\\tiago\\AppData\\Local\\Microsoft\\WindowsApps\\PythonSoftwareFoundation.Python.3.11_qbz5n2kfra8p0\\python.exe -m pip install --upgrade pip\n"
     ]
    },
    {
     "name": "stdout",
     "output_type": "stream",
     "text": [
      "Requirement already satisfied: jpype1 in c:\\users\\tiago\\appdata\\local\\packages\\pythonsoftwarefoundation.python.3.11_qbz5n2kfra8p0\\localcache\\local-packages\\python311\\site-packages (1.5.0)\n",
      "Requirement already satisfied: packaging in c:\\users\\tiago\\appdata\\local\\packages\\pythonsoftwarefoundation.python.3.11_qbz5n2kfra8p0\\localcache\\local-packages\\python311\\site-packages (from jpype1) (23.2)\n"
     ]
    },
    {
     "name": "stderr",
     "output_type": "stream",
     "text": [
      "\n",
      "[notice] A new release of pip is available: 23.2.1 -> 23.3.2\n",
      "[notice] To update, run: C:\\Users\\tiago\\AppData\\Local\\Microsoft\\WindowsApps\\PythonSoftwareFoundation.Python.3.11_qbz5n2kfra8p0\\python.exe -m pip install --upgrade pip\n"
     ]
    }
   ],
   "source": [
    "!pip install quantlib\n",
    "!pip install jpype1"
   ]
  },
  {
   "cell_type": "code",
   "execution_count": 100,
   "id": "74ff2bd4",
   "metadata": {},
   "outputs": [],
   "source": [
    "import QuantLib as ql\n",
    "import numpy as np\n",
    "import pandas as pd"
   ]
  },
  {
   "cell_type": "code",
   "execution_count": 101,
   "id": "bc0af5d1",
   "metadata": {},
   "outputs": [],
   "source": [
    "def count_days(d1: ql.Date, d2: ql.Date, basis = ql.Actual360()):\n",
    "    return basis.dayCount(d1, d2) -1\n",
    "\n",
    "def count_years(d1: ql.Date, d2: ql.Date, basis = ql.Actual360()):\n",
    "    return basis.yearFraction(d1, d2) \n",
    "\n",
    "def get_coupon_dates(issue_date:ql.Date, maturity_date: ql.Date, frequency: int):\n",
    "    schedule = ql.Schedule(\n",
    "        issue_date, \n",
    "        maturity_date, \n",
    "        ql.Period(frequency),\n",
    "        ql.TARGET(),\n",
    "        ql.Following,\n",
    "        ql.Following,\n",
    "        ql.DateGeneration.Backward, \n",
    "        False\n",
    "    )\n",
    "    return [dt for dt in schedule][1:]"
   ]
  },
  {
   "cell_type": "markdown",
   "id": "65a127fa",
   "metadata": {},
   "source": [
    "#### Consider the Bloomberg reference EUR yield curve on the valuation date 14-04-2019 as detailed below. Based on the market information:"
   ]
  },
  {
   "cell_type": "markdown",
   "id": "c3d359d7",
   "metadata": {},
   "source": []
  },
  {
   "cell_type": "code",
   "execution_count": 102,
   "id": "d03adee5",
   "metadata": {},
   "outputs": [
    {
     "name": "stderr",
     "output_type": "stream",
     "text": [
      "C:\\Users\\tiago\\AppData\\Local\\Temp\\ipykernel_21232\\1729480850.py:23: UserWarning: The argument 'infer_datetime_format' is deprecated and will be removed in a future version. A strict version of it is now the default, see https://pandas.pydata.org/pdeps/0004-consistent-to-datetime-parsing.html. You can safely remove this argument.\n",
      "  .apply(lambda d: pd.to_datetime(d, infer_datetime_format=True)) \\\n",
      "C:\\Users\\tiago\\AppData\\Local\\Temp\\ipykernel_21232\\1729480850.py:23: UserWarning: Parsing dates in %d/%m/%Y format when dayfirst=False (the default) was specified. Pass `dayfirst=True` or specify a format to silence this warning.\n",
      "  .apply(lambda d: pd.to_datetime(d, infer_datetime_format=True)) \\\n"
     ]
    },
    {
     "data": {
      "text/html": [
       "<div>\n",
       "<style scoped>\n",
       "    .dataframe tbody tr th:only-of-type {\n",
       "        vertical-align: middle;\n",
       "    }\n",
       "\n",
       "    .dataframe tbody tr th {\n",
       "        vertical-align: top;\n",
       "    }\n",
       "\n",
       "    .dataframe thead th {\n",
       "        text-align: right;\n",
       "    }\n",
       "</style>\n",
       "<table border=\"1\" class=\"dataframe\">\n",
       "  <thead>\n",
       "    <tr style=\"text-align: right;\">\n",
       "      <th></th>\n",
       "      <th>maturity</th>\n",
       "      <th>rate</th>\n",
       "      <th>theta</th>\n",
       "    </tr>\n",
       "  </thead>\n",
       "  <tbody>\n",
       "    <tr>\n",
       "      <th>0</th>\n",
       "      <td>April 15th, 2019</td>\n",
       "      <td>-0.003640</td>\n",
       "      <td>0.002778</td>\n",
       "    </tr>\n",
       "    <tr>\n",
       "      <th>1</th>\n",
       "      <td>April 23rd, 2019</td>\n",
       "      <td>-0.003780</td>\n",
       "      <td>0.025000</td>\n",
       "    </tr>\n",
       "    <tr>\n",
       "      <th>2</th>\n",
       "      <td>May 16th, 2019</td>\n",
       "      <td>-0.003670</td>\n",
       "      <td>0.088889</td>\n",
       "    </tr>\n",
       "    <tr>\n",
       "      <th>3</th>\n",
       "      <td>July 16th, 2019</td>\n",
       "      <td>-0.003100</td>\n",
       "      <td>0.258333</td>\n",
       "    </tr>\n",
       "    <tr>\n",
       "      <th>4</th>\n",
       "      <td>October 16th, 2019</td>\n",
       "      <td>-0.002320</td>\n",
       "      <td>0.513889</td>\n",
       "    </tr>\n",
       "    <tr>\n",
       "      <th>5</th>\n",
       "      <td>April 16th, 2020</td>\n",
       "      <td>-0.002270</td>\n",
       "      <td>1.022222</td>\n",
       "    </tr>\n",
       "    <tr>\n",
       "      <th>6</th>\n",
       "      <td>October 16th, 2020</td>\n",
       "      <td>-0.001910</td>\n",
       "      <td>1.530556</td>\n",
       "    </tr>\n",
       "    <tr>\n",
       "      <th>7</th>\n",
       "      <td>April 16th, 2021</td>\n",
       "      <td>-0.001992</td>\n",
       "      <td>2.036111</td>\n",
       "    </tr>\n",
       "    <tr>\n",
       "      <th>8</th>\n",
       "      <td>April 19th, 2022</td>\n",
       "      <td>-0.001305</td>\n",
       "      <td>3.058333</td>\n",
       "    </tr>\n",
       "    <tr>\n",
       "      <th>9</th>\n",
       "      <td>April 17th, 2023</td>\n",
       "      <td>-0.000398</td>\n",
       "      <td>4.066667</td>\n",
       "    </tr>\n",
       "    <tr>\n",
       "      <th>10</th>\n",
       "      <td>April 16th, 2024</td>\n",
       "      <td>0.000553</td>\n",
       "      <td>5.080556</td>\n",
       "    </tr>\n",
       "    <tr>\n",
       "      <th>11</th>\n",
       "      <td>April 16th, 2025</td>\n",
       "      <td>0.001543</td>\n",
       "      <td>6.094444</td>\n",
       "    </tr>\n",
       "    <tr>\n",
       "      <th>12</th>\n",
       "      <td>April 16th, 2026</td>\n",
       "      <td>0.002565</td>\n",
       "      <td>7.108333</td>\n",
       "    </tr>\n",
       "    <tr>\n",
       "      <th>13</th>\n",
       "      <td>April 16th, 2027</td>\n",
       "      <td>0.003573</td>\n",
       "      <td>8.122222</td>\n",
       "    </tr>\n",
       "    <tr>\n",
       "      <th>14</th>\n",
       "      <td>April 18th, 2028</td>\n",
       "      <td>0.004582</td>\n",
       "      <td>9.144444</td>\n",
       "    </tr>\n",
       "    <tr>\n",
       "      <th>15</th>\n",
       "      <td>April 16th, 2029</td>\n",
       "      <td>0.005524</td>\n",
       "      <td>10.152778</td>\n",
       "    </tr>\n",
       "    <tr>\n",
       "      <th>16</th>\n",
       "      <td>April 16th, 2030</td>\n",
       "      <td>0.006385</td>\n",
       "      <td>11.166667</td>\n",
       "    </tr>\n",
       "    <tr>\n",
       "      <th>17</th>\n",
       "      <td>April 16th, 2031</td>\n",
       "      <td>0.007165</td>\n",
       "      <td>12.180556</td>\n",
       "    </tr>\n",
       "    <tr>\n",
       "      <th>18</th>\n",
       "      <td>April 17th, 2034</td>\n",
       "      <td>0.009010</td>\n",
       "      <td>15.227778</td>\n",
       "    </tr>\n",
       "    <tr>\n",
       "      <th>19</th>\n",
       "      <td>April 18th, 2039</td>\n",
       "      <td>0.010710</td>\n",
       "      <td>20.302778</td>\n",
       "    </tr>\n",
       "    <tr>\n",
       "      <th>20</th>\n",
       "      <td>April 19th, 2044</td>\n",
       "      <td>0.011340</td>\n",
       "      <td>25.380556</td>\n",
       "    </tr>\n",
       "    <tr>\n",
       "      <th>21</th>\n",
       "      <td>April 20th, 2049</td>\n",
       "      <td>0.011520</td>\n",
       "      <td>30.455556</td>\n",
       "    </tr>\n",
       "    <tr>\n",
       "      <th>22</th>\n",
       "      <td>April 16th, 2054</td>\n",
       "      <td>0.011500</td>\n",
       "      <td>35.516667</td>\n",
       "    </tr>\n",
       "    <tr>\n",
       "      <th>23</th>\n",
       "      <td>April 16th, 2059</td>\n",
       "      <td>0.011402</td>\n",
       "      <td>40.588889</td>\n",
       "    </tr>\n",
       "    <tr>\n",
       "      <th>24</th>\n",
       "      <td>April 16th, 2064</td>\n",
       "      <td>0.011310</td>\n",
       "      <td>45.663889</td>\n",
       "    </tr>\n",
       "    <tr>\n",
       "      <th>25</th>\n",
       "      <td>April 16th, 2069</td>\n",
       "      <td>0.011210</td>\n",
       "      <td>50.736111</td>\n",
       "    </tr>\n",
       "  </tbody>\n",
       "</table>\n",
       "</div>"
      ],
      "text/plain": [
       "              maturity      rate      theta\n",
       "0     April 15th, 2019 -0.003640   0.002778\n",
       "1     April 23rd, 2019 -0.003780   0.025000\n",
       "2       May 16th, 2019 -0.003670   0.088889\n",
       "3      July 16th, 2019 -0.003100   0.258333\n",
       "4   October 16th, 2019 -0.002320   0.513889\n",
       "5     April 16th, 2020 -0.002270   1.022222\n",
       "6   October 16th, 2020 -0.001910   1.530556\n",
       "7     April 16th, 2021 -0.001992   2.036111\n",
       "8     April 19th, 2022 -0.001305   3.058333\n",
       "9     April 17th, 2023 -0.000398   4.066667\n",
       "10    April 16th, 2024  0.000553   5.080556\n",
       "11    April 16th, 2025  0.001543   6.094444\n",
       "12    April 16th, 2026  0.002565   7.108333\n",
       "13    April 16th, 2027  0.003573   8.122222\n",
       "14    April 18th, 2028  0.004582   9.144444\n",
       "15    April 16th, 2029  0.005524  10.152778\n",
       "16    April 16th, 2030  0.006385  11.166667\n",
       "17    April 16th, 2031  0.007165  12.180556\n",
       "18    April 17th, 2034  0.009010  15.227778\n",
       "19    April 18th, 2039  0.010710  20.302778\n",
       "20    April 19th, 2044  0.011340  25.380556\n",
       "21    April 20th, 2049  0.011520  30.455556\n",
       "22    April 16th, 2054  0.011500  35.516667\n",
       "23    April 16th, 2059  0.011402  40.588889\n",
       "24    April 16th, 2064  0.011310  45.663889\n",
       "25    April 16th, 2069  0.011210  50.736111"
      ]
     },
     "execution_count": 102,
     "metadata": {},
     "output_type": "execute_result"
    }
   ],
   "source": [
    "data = {\n",
    "    \"maturity\": [\n",
    "        \"15/04/2019\", \"23/04/2019\", \"16/05/2019\", \"16/07/2019\", \"16/10/2019\",\n",
    "        \"16/04/2020\", \"16/10/2020\", \"16/04/2021\", \"19/04/2022\", \"17/04/2023\",\n",
    "        \"16/04/2024\", \"16/04/2025\", \"16/04/2026\", \"16/04/2027\", \"18/04/2028\",\n",
    "        \"16/04/2029\", \"16/04/2030\", \"16/04/2031\", \"17/04/2034\", \"18/04/2039\",\n",
    "        \"19/04/2044\", \"20/04/2049\", \"16/04/2054\", \"16/04/2059\", \"16/04/2064\",\n",
    "        \"16/04/2069\"\n",
    "    ],\n",
    "    \"rate\": [\n",
    "        -0.36400, -0.37800, -0.36700, -0.31000, -0.23200, -0.22700, -0.19100,\n",
    "        -0.19925, -0.13050, -0.03975, 0.05525, 0.15425, 0.25650, 0.35725, 0.45825,\n",
    "        0.55240, 0.63850, 0.71650, 0.90100, 1.07100, 1.13400, 1.15200, 1.15000,\n",
    "        1.140249, 1.13100, 1.120999\n",
    "    ]\n",
    "}\n",
    "\n",
    "yield_curve_df = pd.DataFrame(data)\n",
    "\n",
    "valuation_date = ql.Date(14,4,2019)\n",
    "\n",
    "yield_curve_df['maturity'] = yield_curve_df['maturity'] \\\n",
    "    .apply(lambda d: pd.to_datetime(d, infer_datetime_format=True)) \\\n",
    "    .apply(lambda d: ql.Date(d.day, d.month, d.year))\n",
    "\n",
    "yield_curve_df['rate'] = yield_curve_df['rate'].apply(lambda r: r/100)\n",
    "\n",
    "\n",
    "yield_curve_df['theta'] = yield_curve_df['maturity'] \\\n",
    "    .apply(lambda maturity: count_years(valuation_date, maturity))\n",
    "\n",
    "yield_curve_df"
   ]
  },
  {
   "cell_type": "markdown",
   "id": "2b0b82fa",
   "metadata": {},
   "source": [
    "## a) Build the complete yield curve using interpolation techniques."
   ]
  },
  {
   "cell_type": "markdown",
   "id": "c6919fd1",
   "metadata": {},
   "source": [
    "### Cubic Spline interpolation"
   ]
  },
  {
   "cell_type": "code",
   "execution_count": 103,
   "id": "97be38a9",
   "metadata": {},
   "outputs": [],
   "source": [
    "from scipy.interpolate import CubicSpline\n",
    "import matplotlib.pyplot as plt\n",
    "\n",
    "#cubic spline the yield curve\n",
    "yield_curve = CubicSpline(yield_curve_df.theta, yield_curve_df.rate, bc_type='not-a-knot')"
   ]
  },
  {
   "cell_type": "code",
   "execution_count": 104,
   "id": "a9736480",
   "metadata": {},
   "outputs": [
    {
     "data": {
      "image/png": "[encoded data removed]",
      "text/plain": [
       "<Figure size 640x480 with 1 Axes>"
      ]
     },
     "metadata": {},
     "output_type": "display_data"
    }
   ],
   "source": [
    "time_axis = np.arange(0, max(yield_curve_df.theta)+1)\n",
    "rate_axis = yield_curve(time_axis)\n",
    "\n",
    "plt.scatter(yield_curve_df.theta, yield_curve_df.rate * 100, label='Bloomberg Data', color='red');\n",
    "plt.plot(time_axis, rate_axis * 100, label='Interpolation line', color='blue');\n",
    "plt.xlabel(f'Maturity (Years from valuation {valuation_date})')\n",
    "plt.ylabel('Yield rate (%)')\n",
    "plt.title('Yield Curve Cubic Spline Interpolation')\n",
    "plt.legend()\n",
    "plt.show()"
   ]
  },
  {
   "cell_type": "markdown",
   "id": "7c9c758d",
   "metadata": {},
   "source": [
    "### b) Compute the accrued interest in the fixed and floating legs of the contract.\n",
    "\n",
    "We assume T+0 lag on settlement date (settlement date = trade date) and notional value of 10 million euros. We can start by defining common vars:"
   ]
  },
  {
   "cell_type": "markdown",
   "id": "a27a4184",
   "metadata": {},
   "source": [
    "#### Set the assumptions"
   ]
  },
  {
   "cell_type": "code",
   "execution_count": 105,
   "id": "bbbf3f01",
   "metadata": {},
   "outputs": [],
   "source": [
    "settlement_date = ql.Date(15, 4, 2019)\n",
    "issue_date = ql.Date(19,1, 2007)\n",
    "maturity_date = ql.Date(19, 1, 2032)\n",
    "notional_value = 10e6\n",
    "\n",
    "#swap rate = fixed leg rate\n",
    "#swap rate != swap par rate\n",
    "swap_rate = fixed_rate = 0.05982 / 100"
   ]
  },
  {
   "cell_type": "markdown",
   "id": "8948834e",
   "metadata": {},
   "source": [
    "Fixed Leg"
   ]
  },
  {
   "cell_type": "code",
   "execution_count": 106,
   "id": "69353640",
   "metadata": {},
   "outputs": [
    {
     "name": "stdout",
     "output_type": "stream",
     "text": [
      "Fixed Leg: 1379.1833333333334€\n",
      "Fixed Leg: 0.013791833333333335%\n"
     ]
    }
   ],
   "source": [
    "#we actually exclude the first coupon, because it's a short first coupon since we settled at 15/4/2019\n",
    "#and first coupon after settlement is at 20/1/2019\n",
    "fixed_leg_coupon_dates = [\n",
    "    date for date in get_coupon_dates(issue_date, maturity_date, 1) \n",
    "    if date.year() >= settlement_date.year()\n",
    "]\n",
    "\n",
    "#Fixed leg is set at 30U/360\n",
    "fixed_leg_basis = ql.Thirty360(ql.Thirty360.BondBasis)\n",
    "fixed_leg_ai_u = count_days(fixed_leg_coupon_dates[0], settlement_date, fixed_leg_basis)\n",
    "fixed_leg_ai_w = 360\n",
    "\n",
    "fixed_leg_ai = notional_value * fixed_leg_ai_u/fixed_leg_ai_w * fixed_rate\n",
    "\n",
    "\n",
    "print(f\"Fixed Leg: {fixed_leg_ai}€\")\n",
    "print(f\"Fixed Leg: {fixed_leg_ai/notional_value * 100}%\")"
   ]
  },
  {
   "cell_type": "markdown",
   "id": "a2b036ea",
   "metadata": {},
   "source": [
    "#### Floating leg"
   ]
  },
  {
   "cell_type": "code",
   "execution_count": 107,
   "id": "efd8da38",
   "metadata": {},
   "outputs": [
    {
     "name": "stdout",
     "output_type": "stream",
     "text": [
      "Floating Leg: 5441.11111111111€\n",
      "Floating Leg: 0.0544111111111111%\n",
      "83\n"
     ]
    }
   ],
   "source": [
    "# Calculate accrued interest for floating leg\n",
    "floating_leg_basis = ql.Actual360()\n",
    "\n",
    "floating_leg_coupon_dates = [\n",
    "    date for date in get_coupon_dates(issue_date, maturity_date, 2)\n",
    "    if date.year() >= settlement_date.year()\n",
    "]\n",
    "\n",
    "if floating_leg_coupon_dates:\n",
    "    floating_leg_ai_u = count_days(floating_leg_coupon_dates[0], settlement_date, floating_leg_basis)\n",
    "    floating_leg_ai_w = 360 / 2  \n",
    "    floating_rate = 0.236 / 100  \n",
    "    floating_leg_ai = notional_value * floating_leg_ai_u / floating_leg_ai_w * floating_rate / 2\n",
    "    print(f\"Floating Leg: {floating_leg_ai}€\")\n",
    "    print(f\"Floating Leg: {floating_leg_ai / notional_value * 100}%\")\n",
    "else:\n",
    "    print(\"No floating leg coupon payment remaining.\")\n",
    "\n",
    "print(floating_leg_ai_u)\n"
   ]
  },
  {
   "cell_type": "markdown",
   "id": "33b9a6d6",
   "metadata": {},
   "source": [
    "### c) Calculate the clean (principal) and dirty market value of the swap contract."
   ]
  },
  {
   "cell_type": "code",
   "execution_count": 108,
   "id": "6faaf407",
   "metadata": {},
   "outputs": [
    {
     "name": "stdout",
     "output_type": "stream",
     "text": [
      "We will received 76.11111111111111% of the first fixed leg coupon\n"
     ]
    }
   ],
   "source": [
    "short_discount = count_days(settlement_date, fixed_leg_coupon_dates[1], fixed_leg_basis)/360\n",
    "print(f\"We will received {short_discount * 100}% of the first fixed leg coupon\")"
   ]
  },
  {
   "cell_type": "code",
   "execution_count": 109,
   "id": "0820ed38",
   "metadata": {},
   "outputs": [
    {
     "data": {
      "image/png": "[encoded data removed]",
      "text/plain": [
       "<Figure size 640x480 with 1 Axes>"
      ]
     },
     "metadata": {},
     "output_type": "display_data"
    }
   ],
   "source": [
    "all_coupon_dates = floating_leg_coupon_dates[1:]\n",
    " \n",
    "def get_discount_factors(yield_curve = yield_curve, payment_freq = 1):\n",
    "    step = 1/2 #since floating has twice as many cashflows\n",
    "    n_cashflows = len(all_coupon_dates) * step\n",
    " \n",
    "    #time array / cashflow number\n",
    "    t = np.arange(step, n_cashflows + step, step)\n",
    "    r = yield_curve(t)/payment_freq\n",
    "    return 1/((r + 1) ** t)\n",
    " \n",
    "def plot_discount_factors(discount_factors):\n",
    "    plt.figure();\n",
    "    plt.plot(\n",
    "        [count_years(settlement_date, d) for d in all_coupon_dates],\n",
    "        discount_factors\n",
    "    );\n",
    "    plt.title('Discount factor by maturity');\n",
    "    plt.xlabel('Maturity (years)');\n",
    "    plt.ylabel('Discount Factor');\n",
    " \n",
    "plot_discount_factors(get_discount_factors(yield_curve))"
   ]
  },
  {
   "cell_type": "code",
   "execution_count": 110,
   "id": "f468c46b",
   "metadata": {},
   "outputs": [
    {
     "name": "stdout",
     "output_type": "stream",
     "text": [
      "Fixed leg payments: [4.56331718e+03 6.00582874e+03 6.00653417e+03 5.99293456e+03\n",
      " 5.96781570e+03 5.93026921e+03 5.88016086e+03 5.81937168e+03\n",
      " 5.74808802e+03 5.66911891e+03 5.58580182e+03 5.49953870e+03\n",
      " 9.05244813e+06]\n",
      "Fixed leg PV: €9121116.907428492\n"
     ]
    }
   ],
   "source": [
    "def get_fixed_leg_payments(rate):\n",
    "    fixed_leg_cashflows = []\n",
    "    coupon_dates = all_coupon_dates[1::2]\n",
    "    discount_factors = get_discount_factors(yield_curve)[1::2]\n",
    "    cashflows = discount_factors * rate * notional_value\n",
    "    #specific cases\n",
    "    cashflows[0] *= short_discount\n",
    "    cashflows[-1] += (notional_value * discount_factors[-1])\n",
    "    return cashflows\n",
    "\n",
    "fixed_leg_cashflows = get_fixed_leg_payments(fixed_rate)\n",
    "print(f\"Fixed leg payments: {fixed_leg_cashflows}\")\n",
    "fixed_leg_cashflows = np.array(fixed_leg_cashflows)\n",
    "fixed_leg_pv = fixed_leg_cashflows.sum()\n",
    "print(f\"Fixed leg PV: €{fixed_leg_pv}\")"
   ]
  },
  {
   "cell_type": "code",
   "execution_count": 111,
   "id": "2be5adff",
   "metadata": {},
   "outputs": [
    {
     "name": "stdout",
     "output_type": "stream",
     "text": [
      "Clean price: 91.2112\n",
      "Dirty price: 91.225\n"
     ]
    }
   ],
   "source": [
    "print(f\"Clean price: {round(fixed_leg_pv/notional_value * 100, 4)}\")\n",
    "print(f\"Dirty price: {round((fixed_leg_pv+fixed_leg_ai)/notional_value * 100, 4)}\")"
   ]
  },
  {
   "cell_type": "code",
   "execution_count": 112,
   "id": "3036112c",
   "metadata": {},
   "outputs": [
    {
     "data": {
      "text/html": [
       "<div>\n",
       "<style scoped>\n",
       "    .dataframe tbody tr th:only-of-type {\n",
       "        vertical-align: middle;\n",
       "    }\n",
       "\n",
       "    .dataframe tbody tr th {\n",
       "        vertical-align: top;\n",
       "    }\n",
       "\n",
       "    .dataframe thead th {\n",
       "        text-align: right;\n",
       "    }\n",
       "</style>\n",
       "<table border=\"1\" class=\"dataframe\">\n",
       "  <thead>\n",
       "    <tr style=\"text-align: right;\">\n",
       "      <th></th>\n",
       "      <th>discount_factors</th>\n",
       "      <th>forward_rates</th>\n",
       "      <th>discounted_cashflows</th>\n",
       "    </tr>\n",
       "  </thead>\n",
       "  <tbody>\n",
       "    <tr>\n",
       "      <th>July 19th, 2019</th>\n",
       "      <td>1.000588</td>\n",
       "      <td>-0.002360</td>\n",
       "      <td>-1.797278e+04</td>\n",
       "    </tr>\n",
       "    <tr>\n",
       "      <th>January 20th, 2020</th>\n",
       "      <td>1.001135</td>\n",
       "      <td>-0.000547</td>\n",
       "      <td>-5.475284e+03</td>\n",
       "    </tr>\n",
       "    <tr>\n",
       "      <th>July 20th, 2020</th>\n",
       "      <td>1.001446</td>\n",
       "      <td>-0.000310</td>\n",
       "      <td>-3.106921e+03</td>\n",
       "    </tr>\n",
       "    <tr>\n",
       "      <th>January 19th, 2021</th>\n",
       "      <td>1.001989</td>\n",
       "      <td>-0.000542</td>\n",
       "      <td>-5.426549e+03</td>\n",
       "    </tr>\n",
       "    <tr>\n",
       "      <th>July 19th, 2021</th>\n",
       "      <td>1.002291</td>\n",
       "      <td>-0.000302</td>\n",
       "      <td>-3.026604e+03</td>\n",
       "    </tr>\n",
       "    <tr>\n",
       "      <th>January 19th, 2022</th>\n",
       "      <td>1.002048</td>\n",
       "      <td>0.000243</td>\n",
       "      <td>2.435262e+03</td>\n",
       "    </tr>\n",
       "    <tr>\n",
       "      <th>July 19th, 2022</th>\n",
       "      <td>1.001565</td>\n",
       "      <td>0.000482</td>\n",
       "      <td>4.829118e+03</td>\n",
       "    </tr>\n",
       "    <tr>\n",
       "      <th>January 19th, 2023</th>\n",
       "      <td>1.000913</td>\n",
       "      <td>0.000651</td>\n",
       "      <td>6.515236e+03</td>\n",
       "    </tr>\n",
       "    <tr>\n",
       "      <th>July 19th, 2023</th>\n",
       "      <td>1.000003</td>\n",
       "      <td>0.000911</td>\n",
       "      <td>9.107638e+03</td>\n",
       "    </tr>\n",
       "    <tr>\n",
       "      <th>January 19th, 2024</th>\n",
       "      <td>0.998814</td>\n",
       "      <td>0.001191</td>\n",
       "      <td>1.189096e+04</td>\n",
       "    </tr>\n",
       "    <tr>\n",
       "      <th>July 19th, 2024</th>\n",
       "      <td>0.997369</td>\n",
       "      <td>0.001448</td>\n",
       "      <td>1.444448e+04</td>\n",
       "    </tr>\n",
       "    <tr>\n",
       "      <th>January 20th, 2025</th>\n",
       "      <td>0.995665</td>\n",
       "      <td>0.001711</td>\n",
       "      <td>1.703950e+04</td>\n",
       "    </tr>\n",
       "    <tr>\n",
       "      <th>July 21st, 2025</th>\n",
       "      <td>0.993685</td>\n",
       "      <td>0.001993</td>\n",
       "      <td>1.980170e+04</td>\n",
       "    </tr>\n",
       "    <tr>\n",
       "      <th>January 19th, 2026</th>\n",
       "      <td>0.991446</td>\n",
       "      <td>0.002258</td>\n",
       "      <td>2.238897e+04</td>\n",
       "    </tr>\n",
       "    <tr>\n",
       "      <th>July 20th, 2026</th>\n",
       "      <td>0.988985</td>\n",
       "      <td>0.002489</td>\n",
       "      <td>2.461241e+04</td>\n",
       "    </tr>\n",
       "    <tr>\n",
       "      <th>January 19th, 2027</th>\n",
       "      <td>0.986301</td>\n",
       "      <td>0.002721</td>\n",
       "      <td>2.683379e+04</td>\n",
       "    </tr>\n",
       "    <tr>\n",
       "      <th>July 19th, 2027</th>\n",
       "      <td>0.983377</td>\n",
       "      <td>0.002974</td>\n",
       "      <td>2.924518e+04</td>\n",
       "    </tr>\n",
       "    <tr>\n",
       "      <th>January 19th, 2028</th>\n",
       "      <td>0.980232</td>\n",
       "      <td>0.003208</td>\n",
       "      <td>3.144908e+04</td>\n",
       "    </tr>\n",
       "    <tr>\n",
       "      <th>July 19th, 2028</th>\n",
       "      <td>0.976914</td>\n",
       "      <td>0.003396</td>\n",
       "      <td>3.317940e+04</td>\n",
       "    </tr>\n",
       "    <tr>\n",
       "      <th>January 19th, 2029</th>\n",
       "      <td>0.973462</td>\n",
       "      <td>0.003546</td>\n",
       "      <td>3.452326e+04</td>\n",
       "    </tr>\n",
       "    <tr>\n",
       "      <th>July 19th, 2029</th>\n",
       "      <td>0.969907</td>\n",
       "      <td>0.003665</td>\n",
       "      <td>3.555048e+04</td>\n",
       "    </tr>\n",
       "    <tr>\n",
       "      <th>January 21st, 2030</th>\n",
       "      <td>0.966265</td>\n",
       "      <td>0.003769</td>\n",
       "      <td>3.641450e+04</td>\n",
       "    </tr>\n",
       "    <tr>\n",
       "      <th>July 19th, 2030</th>\n",
       "      <td>0.962543</td>\n",
       "      <td>0.003867</td>\n",
       "      <td>3.722097e+04</td>\n",
       "    </tr>\n",
       "    <tr>\n",
       "      <th>January 20th, 2031</th>\n",
       "      <td>0.958756</td>\n",
       "      <td>0.003950</td>\n",
       "      <td>3.787548e+04</td>\n",
       "    </tr>\n",
       "    <tr>\n",
       "      <th>July 21st, 2031</th>\n",
       "      <td>0.954925</td>\n",
       "      <td>0.004012</td>\n",
       "      <td>3.830785e+04</td>\n",
       "    </tr>\n",
       "    <tr>\n",
       "      <th>January 19th, 2032</th>\n",
       "      <td>0.951067</td>\n",
       "      <td>0.004056</td>\n",
       "      <td>9.549249e+06</td>\n",
       "    </tr>\n",
       "  </tbody>\n",
       "</table>\n",
       "</div>"
      ],
      "text/plain": [
       "                    discount_factors  forward_rates  discounted_cashflows\n",
       "July 19th, 2019             1.000588      -0.002360         -1.797278e+04\n",
       "January 20th, 2020          1.001135      -0.000547         -5.475284e+03\n",
       "July 20th, 2020             1.001446      -0.000310         -3.106921e+03\n",
       "January 19th, 2021          1.001989      -0.000542         -5.426549e+03\n",
       "July 19th, 2021             1.002291      -0.000302         -3.026604e+03\n",
       "January 19th, 2022          1.002048       0.000243          2.435262e+03\n",
       "July 19th, 2022             1.001565       0.000482          4.829118e+03\n",
       "January 19th, 2023          1.000913       0.000651          6.515236e+03\n",
       "July 19th, 2023             1.000003       0.000911          9.107638e+03\n",
       "January 19th, 2024          0.998814       0.001191          1.189096e+04\n",
       "July 19th, 2024             0.997369       0.001448          1.444448e+04\n",
       "January 20th, 2025          0.995665       0.001711          1.703950e+04\n",
       "July 21st, 2025             0.993685       0.001993          1.980170e+04\n",
       "January 19th, 2026          0.991446       0.002258          2.238897e+04\n",
       "July 20th, 2026             0.988985       0.002489          2.461241e+04\n",
       "January 19th, 2027          0.986301       0.002721          2.683379e+04\n",
       "July 19th, 2027             0.983377       0.002974          2.924518e+04\n",
       "January 19th, 2028          0.980232       0.003208          3.144908e+04\n",
       "July 19th, 2028             0.976914       0.003396          3.317940e+04\n",
       "January 19th, 2029          0.973462       0.003546          3.452326e+04\n",
       "July 19th, 2029             0.969907       0.003665          3.555048e+04\n",
       "January 21st, 2030          0.966265       0.003769          3.641450e+04\n",
       "July 19th, 2030             0.962543       0.003867          3.722097e+04\n",
       "January 20th, 2031          0.958756       0.003950          3.787548e+04\n",
       "July 21st, 2031             0.954925       0.004012          3.830785e+04\n",
       "January 19th, 2032          0.951067       0.004056          9.549249e+06"
      ]
     },
     "execution_count": 112,
     "metadata": {},
     "output_type": "execute_result"
    }
   ],
   "source": [
    "def get_float_df(yield_curve = yield_curve):\n",
    "    coupon_dates = all_coupon_dates\n",
    "    discount_factors = get_discount_factors(yield_curve, 2)\n",
    " \n",
    "    #compute forwards\n",
    "    forward_rates = np.ones( len(coupon_dates) )\n",
    "    for i in range( len(coupon_dates) - 1):\n",
    "        forward_rates[i+1] = discount_factors[i]/discount_factors[i+1] - 1\n",
    "    forward_rates[0] = -floating_rate\n",
    " \n",
    "    cashflows = discount_factors * forward_rates * notional_value\n",
    "    #specific cases\n",
    "    cashflows[0] *= short_discount\n",
    "    cashflows[-1] += (notional_value * discount_factors[-1])\n",
    " \n",
    "    return pd.DataFrame(data = {\n",
    "        'discount_factors' : discount_factors,\n",
    "        'forward_rates': forward_rates,\n",
    "        'discounted_cashflows': cashflows\n",
    "    }, index = coupon_dates)\n",
    "   \n",
    " \n",
    "float_df = get_float_df(yield_curve)\n",
    "float_df"
   ]
  },
  {
   "cell_type": "code",
   "execution_count": 113,
   "id": "e648191c",
   "metadata": {},
   "outputs": [
    {
     "data": {
      "image/png": "[encoded data removed]",
      "text/plain": [
       "<Figure size 640x480 with 1 Axes>"
      ]
     },
     "metadata": {},
     "output_type": "display_data"
    }
   ],
   "source": [
    "def plot_float_forward_rates(float_df):\n",
    "    plt.title(\"Euribor 6M Forward Rates over time\");\n",
    "    plt.plot(\n",
    "        [pd.Timestamp(dt.year(), dt.month(), dt.dayOfMonth()) for dt in float_df.index],\n",
    "        float_df['forward_rates'] * 100\n",
    "    );\n",
    "    plt.xlabel('Time');\n",
    "    plt.ylabel('Euribor Rate (%)');\n",
    " \n",
    "plot_float_forward_rates(float_df)"
   ]
  },
  {
   "cell_type": "code",
   "execution_count": 114,
   "id": "0d97addb",
   "metadata": {},
   "outputs": [
    {
     "name": "stdout",
     "output_type": "stream",
     "text": [
      "Clean price: 99.8791\n",
      "Dirty price: 99.9335\n"
     ]
    }
   ],
   "source": [
    "floating_leg_pv = float_df.discounted_cashflows.sum()\n",
    "\n",
    "print(f\"Clean price: {round(floating_leg_pv/notional_value * 100, 4)}\")\n",
    "print(f\"Dirty price: {round((floating_leg_pv+floating_leg_ai)/notional_value * 100, 4)}\")"
   ]
  },
  {
   "cell_type": "code",
   "execution_count": 115,
   "id": "f878f0df",
   "metadata": {},
   "outputs": [
    {
     "name": "stdout",
     "output_type": "stream",
     "text": [
      "Swap contract: €(-866788.9024229925)\n"
     ]
    }
   ],
   "source": [
    "swap_value = fixed_leg_pv-floating_leg_pv\n",
    "print(f\"Swap contract: €({swap_value})\")"
   ]
  },
  {
   "cell_type": "markdown",
   "id": "88f0bb75",
   "metadata": {},
   "source": [
    "### d) Estimate the net present value of the contract."
   ]
  },
  {
   "cell_type": "code",
   "execution_count": 116,
   "id": "98acdf5b",
   "metadata": {},
   "outputs": [
    {
     "name": "stdout",
     "output_type": "stream",
     "text": [
      "Fixed Leg NPV: €9122496.090761825\n",
      "Floating Leg NPV: €9993346.920962596\n",
      "Net Present Value (NPV) of the Contract: €-859968.607978548\n"
     ]
    }
   ],
   "source": [
    "# Net Present Value (NPV) of the contract\n",
    "net_present_value = swap_value + floating_leg_ai + fixed_leg_ai\n",
    "fixed_leg_npv = fixed_leg_pv + fixed_leg_ai\n",
    "floating_leg_npv = floating_leg_pv + floating_leg_ai\n",
    "\n",
    "print(f\"Fixed Leg NPV: €{fixed_leg_npv}\")\n",
    "print(f\"Floating Leg NPV: €{floating_leg_npv}\")\n",
    "print(f\"Net Present Value (NPV) of the Contract: €{net_present_value}\")\n"
   ]
  },
  {
   "cell_type": "markdown",
   "id": "a3ee5afb",
   "metadata": {},
   "source": [
    "### e) Estimate the swap par rate."
   ]
  },
  {
   "cell_type": "code",
   "execution_count": 117,
   "id": "ba2c8d22",
   "metadata": {},
   "outputs": [
    {
     "name": "stdout",
     "output_type": "stream",
     "text": [
      "The swap par rate is 0.7597%\n"
     ]
    }
   ],
   "source": [
    "from scipy.optimize import fsolve\n",
    "\n",
    "def find_swap_par_rate(fixed_rate):\n",
    "    return sum(get_fixed_leg_payments(fixed_rate)) - floating_leg_pv\n",
    "\n",
    "swap_par_rate = fsolve(find_swap_par_rate, 6/100)[0]\n",
    "\n",
    "print(f\"The swap par rate is {round(swap_par_rate*100, 4)}%\")"
   ]
  },
  {
   "cell_type": "markdown",
   "id": "4cad3594",
   "metadata": {},
   "source": [
    "### f) Estimate the following IRS Greeks: present value of a one basis point shift (PV01), DV01, Gamma and discuss the interest rate risk of the contract. "
   ]
  },
  {
   "cell_type": "code",
   "execution_count": 126,
   "id": "4965ba7b",
   "metadata": {},
   "outputs": [
    {
     "name": "stdout",
     "output_type": "stream",
     "text": [
      "PV01: 12383.937914442271\n",
      "DV01: 12317.49760125205\n",
      "Gamma: 0.0\n"
     ]
    }
   ],
   "source": [
    "def calculate_swap_pv(fixed_rate, basis_point=0.0):\n",
    "    if basis_point != 0.0:\n",
    "        yield_curve_shifted = CubicSpline(yield_curve_df.theta, yield_curve_df.rate + basis_point, bc_type='not-a-knot')\n",
    "    else:\n",
    "        yield_curve_shifted = yield_curve\n",
    "    \n",
    "    fixed_leg_payments = get_fixed_leg_payments(fixed_rate, yield_curve_shifted)\n",
    "    \n",
    "    fixed_leg_pv = np.sum(fixed_leg_payments)\n",
    "    \n",
    "    floating_leg_pv = float_df.discounted_cashflows.sum()\n",
    "    \n",
    "    swap_pv = fixed_leg_pv - floating_leg_pv\n",
    "    \n",
    "    return swap_pv\n",
    "\n",
    "def calculate_pv01(fixed_rate, basis_point=0.0001):\n",
    "    pv_original = calculate_swap_pv(fixed_rate)\n",
    "    \n",
    "    pv_shifted = calculate_swap_pv(fixed_rate + basis_point)\n",
    "    \n",
    "    return pv_shifted - pv_original\n",
    "\n",
    "def calculate_dv01(fixed_rate, basis_point=0.0001):\n",
    "    pv_original = calculate_swap_pv(fixed_rate)\n",
    "    \n",
    "    pv_shifted = calculate_swap_pv(fixed_rate, basis_point)\n",
    "    \n",
    "    return pv_original - pv_shifted\n",
    "\n",
    "def calculate_gamma(fixed_rate, basis_point=0.0001):\n",
    "    pv01_original = calculate_pv01(fixed_rate, basis_point)\n",
    "    \n",
    "    pv01_shifted_higher = calculate_pv01(fixed_rate + basis_point, basis_point)\n",
    "    \n",
    "    pv01_shifted_lower = calculate_pv01(fixed_rate - basis_point, basis_point)\n",
    "    \n",
    "    return (pv01_shifted_higher - 2 * pv01_original + pv01_shifted_lower) / (basis_point ** 2)\n",
    "\n",
    "fixed_rate = swap_par_rate  \n",
    "pv01 = calculate_pv01(fixed_rate)\n",
    "dv01 = calculate_dv01(fixed_rate)\n",
    "gamma = calculate_gamma(fixed_rate)\n",
    "\n",
    "print(f\"PV01: {pv01}\")\n",
    "print(f\"DV01: {dv01}\")\n",
    "print(f\"Gamma: {gamma}\")\n"
   ]
  }
 ],
 "metadata": {
  "kernelspec": {
   "display_name": "Python 3",
   "language": "python",
   "name": "python3"
  },
  "language_info": {
   "codemirror_mode": {
    "name": "ipython",
    "version": 3
   },
   "file_extension": ".py",
   "mimetype": "text/x-python",
   "name": "python",
   "nbconvert_exporter": "python",
   "pygments_lexer": "ipython3",
   "version": "3.11.7"
  }
 },
 "nbformat": 4,
 "nbformat_minor": 5
}
